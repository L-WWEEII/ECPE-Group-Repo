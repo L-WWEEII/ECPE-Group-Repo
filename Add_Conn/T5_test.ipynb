{
 "cells": [
  {
   "cell_type": "code",
   "execution_count": 15,
   "metadata": {},
   "outputs": [
    {
     "name": "stdout",
     "output_type": "stream",
     "text": [
      "tensor([0.0129, 0.0181, 0.0293], device='cuda:7')\n"
     ]
    }
   ],
   "source": [
    "from transformers import AutoTokenizer, AutoConfig,T5ForConditionalGeneration,T5Tokenizer,T5Config,Text2TextGenerationPipeline\n",
    "from datasets import load_dataset\n",
    "import torch\n",
    "import numpy as np\n",
    "import pandas as pd\n",
    "from torch import nn\n",
    "import os\n",
    "import random\n",
    "import copy\n",
    "\n",
    "# Calculate probability for a batch\n",
    "def cal_prob_batch(target_text: list, input_text: list, model, tokenizer):\n",
    "    # Transform input_text into format of T5 input\n",
    "    encodings = tokenizer(input_text, return_tensors=\"pt\")\n",
    "    encodings = {k: v.to(device) for k, v in encodings.items()}\n",
    "    # Transform target_text into format of T5 output\n",
    "    labels = tokenizer(target_text, return_tensors=\"pt\", max_length=64, padding=True)['input_ids'].to(device)\n",
    "    # Generate decoder_input_ids from labels, should pad 0 w.r.t the length of labels\n",
    "    decoder_input_ids = torch.cat([torch.zeros_like(labels[:, :1]), labels[:, :-1]], dim=-1).to(device)\n",
    "\n",
    "    # Calculate probabilities of texts\n",
    "    outputs = model(**encodings, labels=labels, decoder_input_ids=decoder_input_ids)\n",
    "    # Use logits to calculate the probabilities of labels, the shape of logits is [batch_size,seq_len,vocab_size]\n",
    "    logits = outputs[\"logits\"].detach()\n",
    "    # Softmax the logits to gain the probability of each word\n",
    "    logits_softmax = torch.softmax(logits, dim=-1)\n",
    "\n",
    "    # Calculate the probability of generating labels\n",
    "    # We assume the length of labels is n, then the probability of generating labels[0] is equal to the formula below\n",
    "    # logits[0,0,labels[0]]*logits[0,1,labels[1]]*...*logits[0,n-1,labels[n-1]]\n",
    "    # x equals from 0 to seq_len-1, y equals to labels[n]\n",
    "    # Select corresponding probability from logits\n",
    "    labels_token_prob_list = [logits_softmax[i, range(labels.shape[-1]), labels[i, :]] for i in\n",
    "                              range(labels.shape[0])]\n",
    "    # labels_token_prob_list has the same size with labels, which is [batch_size,max_seq_len]\n",
    "    labels_token_prob_list = torch.stack(labels_token_prob_list)\n",
    "    # Set probability equal to 1 where labels equals to 0\n",
    "    labels_token_prob_list[labels==0]=1\n",
    "    # Calculate probability of each label, by multiplying probabilities of all tokens in labels_token_prob_list\n",
    "    labels_prob_list = torch.prod(labels_token_prob_list, dim=-1)\n",
    "\n",
    "    return labels_prob_list\n",
    "\n",
    "if __name__ == \"__main__\":\n",
    "    # Designate device\n",
    "    device = torch.device(\"cuda:7\" if torch.cuda.is_available() else \"cpu\")\n",
    "\n",
    "    model_name = \"ClueAI/PromptCLUE-base\"  \n",
    "    tokenizer = AutoTokenizer.from_pretrained(model_name)\n",
    "    cfg = AutoConfig.from_pretrained(model_name)\n",
    "    model = T5ForConditionalGeneration.from_pretrained(model_name, config=cfg)\n",
    "    model.to(device)\n",
    "    \n",
    "    input_text = [\"这两句话之间应该加入什么连接词： 我们想感谢一些人，这些人帮助了我们。 选项：因为，所以，但是 答案：\"] * 3\n",
    "    target_text = [\"因为\",\"所以\",\"但是\"]\n",
    "\n",
    "    # Calculate the probability of generating target_text\n",
    "    # Input a list，Output a tensor whose length is len(list)\n",
    "    text_prob = cal_prob_batch(target_text, input_text, model, tokenizer)\n",
    "    print(text_prob)"
   ]
  },
  {
   "cell_type": "code",
   "execution_count": null,
   "metadata": {},
   "outputs": [],
   "source": []
  }
 ],
 "metadata": {
  "kernelspec": {
   "display_name": "mytransformer",
   "language": "python",
   "name": "python3"
  },
  "language_info": {
   "codemirror_mode": {
    "name": "ipython",
    "version": 3
   },
   "file_extension": ".py",
   "mimetype": "text/x-python",
   "name": "python",
   "nbconvert_exporter": "python",
   "pygments_lexer": "ipython3",
   "version": "3.9.16"
  },
  "orig_nbformat": 4
 },
 "nbformat": 4,
 "nbformat_minor": 2
}
