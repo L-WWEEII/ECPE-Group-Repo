{
 "cells": [
  {
   "cell_type": "code",
   "execution_count": 14,
   "metadata": {},
   "outputs": [],
   "source": [
    "import numpy as np\n",
    "import csv\n",
    "\n",
    "# Define class\n",
    "class Statistics():\n",
    "    def __init__(self, key, conn, conn_head_sem_class):\n",
    "        self.key = key  # conn + conn_head_sem_class\n",
    "        self.conn = conn\n",
    "        self.conn_head_sem_class = conn_head_sem_class\n",
    "        self.frequency = 0\n",
    "\n",
    "# Init param\n",
    "result = []  # Statistic result\n",
    "keylist = []  # Primary key for index\n",
    "conn_words = []  # Set connectives\n",
    "conn_words_count = []  # Set connectives count\n",
    "\n",
    "# Get statistics\n",
    "def run_statistics(conn, conn_head_sem_class):\n",
    "    key = conn + '+' + conn_head_sem_class  # Set unique key\n",
    "    if key not in keylist:\n",
    "        keylist.append(key)\n",
    "        if conn not in conn_words:\n",
    "            conn_words.append(conn)\n",
    "            conn_words_count.append(0)\n",
    "        new_situation = Statistics(key, conn, conn_head_sem_class)\n",
    "        result.append(new_situation)\n",
    "    conn_words_count[conn_words.index(conn)] += 1\n",
    "    result[keylist.index(key)].frequency += 1\n",
    "\n",
    "# Load dataset\n",
    "with open ('pdtb2.csv', 'r', newline='') as f:\n",
    "    csv_reader = csv.reader(f,delimiter=',')\n",
    "    # For each instance (row)\n",
    "    for row in csv_reader:\n",
    "        if row[0] == 'Relation':\n",
    "            continue\n",
    "        # ConnHead\n",
    "        if row[9] != '':\n",
    "            conn = row[9]\n",
    "            for index in range(12,14):\n",
    "                if row[index] != '':\n",
    "                    conn_head_sem_class = row[index]\n",
    "                    if ' ' not in conn:\n",
    "                        run_statistics(conn, conn_head_sem_class)\n",
    "        # Conn1\n",
    "        if row[10] != '':\n",
    "            conn = row[10]\n",
    "            for index in range(12,14):\n",
    "                if row[index] != '':\n",
    "                    conn_head_sem_class = row[index]\n",
    "                    if ' ' not in conn:\n",
    "                        run_statistics(conn, conn_head_sem_class)\n",
    "        # Conn2\n",
    "        if row[11] != '':\n",
    "            conn = row[10]\n",
    "            for index in range(14,16):\n",
    "                if row[index] != '':\n",
    "                    conn_head_sem_class = row[index]\n",
    "                    if ' ' not in conn:\n",
    "                        run_statistics(conn, conn_head_sem_class)\n",
    "\n",
    "# Write result in csv\n",
    "with open ('result_uniconn.csv', 'w', encoding='utf-8', newline='') as f:\n",
    "    csv_writer = csv.writer(f)\n",
    "\n",
    "    csv_writer.writerow(['key', 'conn', 'conn_head_sem_class', 'frequency', 'conn_total_count'])\n",
    "    for item in result:\n",
    "        csv_writer.writerow([item.key, item.conn, item.conn_head_sem_class, item.frequency, conn_words_count[conn_words.index(item.conn)]])\n"
   ]
  },
  {
   "cell_type": "code",
   "execution_count": 15,
   "metadata": {},
   "outputs": [
    {
     "name": "stdout",
     "output_type": "stream",
     "text": [
      "77\n"
     ]
    }
   ],
   "source": [
    "print(len(conn_words))"
   ]
  },
  {
   "cell_type": "code",
   "execution_count": null,
   "metadata": {},
   "outputs": [],
   "source": []
  }
 ],
 "metadata": {
  "kernelspec": {
   "display_name": "Python 3",
   "language": "python",
   "name": "python3"
  },
  "language_info": {
   "codemirror_mode": {
    "name": "ipython",
    "version": 3
   },
   "file_extension": ".py",
   "mimetype": "text/x-python",
   "name": "python",
   "nbconvert_exporter": "python",
   "pygments_lexer": "ipython3",
   "version": "3.9.16"
  },
  "orig_nbformat": 4
 },
 "nbformat": 4,
 "nbformat_minor": 2
}
